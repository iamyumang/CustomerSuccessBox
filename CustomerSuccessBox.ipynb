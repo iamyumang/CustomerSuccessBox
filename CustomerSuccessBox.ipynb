{
 "cells": [
  {
   "cell_type": "code",
   "execution_count": 157,
   "metadata": {
    "colab": {
     "base_uri": "https://localhost:8080/",
     "height": 207
    },
    "colab_type": "code",
    "id": "ZWFs4mDZfCMC",
    "outputId": "a741c9ca-f9d8-4b3f-d520-9940cdd67d9c"
   },
   "outputs": [],
   "source": [
    "#import all the required libraries\n",
    "\n",
    "import pandas as pd\n",
    "import numpy as np\n",
    "import seaborn as sns\n",
    "import os\n",
    "import matplotlib.pyplot as plt\n",
    "import random\n",
    "import plotly.express as px\n",
    "from imblearn.over_sampling import SMOTE\n",
    "from statsmodels.formula.api import ols\n",
    "import statsmodels.api as sm\n",
    "from statsmodels.stats.outliers_influence import variance_inflation_factor\n",
    "from patsy import dmatrices\n",
    "from sklearn.model_selection import RandomizedSearchCV\n",
    "from scipy.stats import randint \n",
    "\n",
    "from sklearn.model_selection import GridSearchCV \n",
    "from sklearn.tree import DecisionTreeClassifier\n",
    "from xgboost import XGBClassifier\n",
    "from sklearn import tree\n",
    "from sklearn.ensemble import RandomForestClassifier\n",
    "from sklearn.linear_model import LogisticRegression\n",
    "from sklearn.metrics import accuracy_score, f1_score, precision_score, recall_score, classification_report, confusion_matrix, roc_curve, auc, roc_auc_score\n",
    "\n",
    "from sklearn.metrics import precision_recall_curve\n",
    "from sklearn.metrics import plot_precision_recall_curve\n",
    "\n",
    "from sklearn.metrics import average_precision_score\n",
    "import warnings\n",
    "warnings.filterwarnings(\"ignore\")"
   ]
  },
  {
   "cell_type": "code",
   "execution_count": null,
   "metadata": {
    "colab": {},
    "colab_type": "code",
    "id": "GbcsvCRCfCMX"
   },
   "outputs": [],
   "source": [
    "#uploading train and test file\n",
    "\n",
    "train= pd.read_csv(\"https://raw.githubusercontent.com/iamyumang/CustomerSuccessBox/master/Train_Set.csv\")     \n",
    "test= pd.read_csv(\"https://raw.githubusercontent.com/iamyumang/CustomerSuccessBox/master/Test_Set.csv\")"
   ]
  },
  {
   "cell_type": "code",
   "execution_count": null,
   "metadata": {
    "colab": {
     "base_uri": "https://localhost:8080/",
     "height": 224
    },
    "colab_type": "code",
    "id": "Z7Fia3vDfCMf",
    "outputId": "daa8c657-577a-420c-ec29-8f335df25fe7"
   },
   "outputs": [],
   "source": [
    "train.head()"
   ]
  },
  {
   "cell_type": "code",
   "execution_count": null,
   "metadata": {
    "colab": {
     "base_uri": "https://localhost:8080/",
     "height": 317
    },
    "colab_type": "code",
    "id": "K5ieN0v6fCMq",
    "outputId": "443a076d-e844-4639-9010-9e7b6e3d71f3"
   },
   "outputs": [],
   "source": [
    "#quick summary of train dataset\n",
    "train.describe()"
   ]
  },
  {
   "cell_type": "code",
   "execution_count": null,
   "metadata": {
    "colab": {
     "base_uri": "https://localhost:8080/",
     "height": 51
    },
    "colab_type": "code",
    "id": "EnTZhFsIfCMz",
    "outputId": "1ab2c072-b9cc-44b8-e39b-5538f835d038"
   },
   "outputs": [],
   "source": [
    "train['week_start_date'] =  pd.to_datetime(train['week_start_date'])\n",
    "\n",
    "\n",
    "#count of unique values of account and date\n",
    "print(train['week_start_date'].nunique())\n",
    "print(train[\"account_id\"].nunique())"
   ]
  },
  {
   "cell_type": "code",
   "execution_count": null,
   "metadata": {
    "colab": {
     "base_uri": "https://localhost:8080/",
     "height": 68
    },
    "colab_type": "code",
    "id": "-Wcr4u6WfCNF",
    "outputId": "7d46667d-f6a2-4a60-ea57-8dcc319fd65b"
   },
   "outputs": [],
   "source": [
    "#check duplicate rows\n",
    "duplicateDFRow = train[train.duplicated()]\n",
    "print(duplicateDFRow[\"Label\"].value_counts())\n"
   ]
  },
  {
   "cell_type": "code",
   "execution_count": null,
   "metadata": {
    "colab": {},
    "colab_type": "code",
    "id": "XSr4cFxYfCNN"
   },
   "outputs": [],
   "source": [
    "#remove duplicates\n",
    "train= train.drop_duplicates()\n",
    "train.reset_index(drop= True, inplace= True)"
   ]
  },
  {
   "cell_type": "code",
   "execution_count": null,
   "metadata": {
    "colab": {
     "base_uri": "https://localhost:8080/",
     "height": 295
    },
    "colab_type": "code",
    "id": "7nWDUhRGfCNW",
    "outputId": "3d6c0132-e556-4b64-c305-65891821a950"
   },
   "outputs": [],
   "source": [
    "#ratio of non-event to event\n",
    "label_count= train[\"Label\"].value_counts()\n",
    "print('Proportion:', round(label_count[0] / label_count[1], 4), ': 1')\n",
    "label_count.plot(kind='bar', title='Count (Label)');"
   ]
  },
  {
   "cell_type": "code",
   "execution_count": 155,
   "metadata": {
    "colab": {
     "base_uri": "https://localhost:8080/",
     "height": 1000
    },
    "colab_type": "code",
    "id": "Gw6rWj-ifCNe",
    "outputId": "fb19b740-7d43-4575-cef4-ddec946fc9da"
   },
   "outputs": [
    {
     "name": "stdout",
     "output_type": "stream",
     "text": [
      "52\n",
      "28\n",
      "123\n",
      "7\n",
      "191\n",
      "26\n",
      "19\n",
      "178\n",
      "550\n",
      "162\n",
      "1544\n",
      "486\n",
      "60\n",
      "2\n"
     ]
    }
   ],
   "source": [
    "#checking counts of all columns unique values\n",
    "col= train.columns\n",
    "col= col[2:64]\n",
    "for i in col:\n",
    "    print(train[i].nunique())\n",
    "col= col.tolist()"
   ]
  },
  {
   "cell_type": "code",
   "execution_count": 156,
   "metadata": {
    "colab": {
     "base_uri": "https://localhost:8080/",
     "height": 224
    },
    "colab_type": "code",
    "id": "a5b1Sm9sfCNo",
    "outputId": "f3483d01-a96a-465d-cad5-9edeecbfa665",
    "scrolled": false
   },
   "outputs": [
    {
     "ename": "KeyError",
     "evalue": "\"None of ['account_id', 'week_start_date'] are in the columns\"",
     "output_type": "error",
     "traceback": [
      "\u001b[1;31m---------------------------------------------------------------------------\u001b[0m",
      "\u001b[1;31mKeyError\u001b[0m                                  Traceback (most recent call last)",
      "\u001b[1;32m<ipython-input-156-31a814cde411>\u001b[0m in \u001b[0;36m<module>\u001b[1;34m\u001b[0m\n\u001b[0;32m      2\u001b[0m \u001b[1;31m#100583 has maximum no. of count\u001b[0m\u001b[1;33m\u001b[0m\u001b[1;33m\u001b[0m\u001b[1;33m\u001b[0m\u001b[0m\n\u001b[0;32m      3\u001b[0m \u001b[1;33m\u001b[0m\u001b[0m\n\u001b[1;32m----> 4\u001b[1;33m \u001b[0mtrain\u001b[0m\u001b[1;33m=\u001b[0m \u001b[0mtrain\u001b[0m\u001b[1;33m.\u001b[0m\u001b[0mset_index\u001b[0m\u001b[1;33m(\u001b[0m\u001b[1;33m[\u001b[0m\u001b[1;34m'account_id'\u001b[0m\u001b[1;33m,\u001b[0m\u001b[1;34m'week_start_date'\u001b[0m\u001b[1;33m]\u001b[0m\u001b[1;33m)\u001b[0m\u001b[1;33m.\u001b[0m\u001b[0msort_index\u001b[0m\u001b[1;33m(\u001b[0m\u001b[1;33m)\u001b[0m\u001b[1;33m\u001b[0m\u001b[1;33m\u001b[0m\u001b[0m\n\u001b[0m\u001b[0;32m      5\u001b[0m \u001b[0mtrain\u001b[0m\u001b[1;33m.\u001b[0m\u001b[0mreset_index\u001b[0m\u001b[1;33m(\u001b[0m\u001b[0minplace\u001b[0m\u001b[1;33m=\u001b[0m \u001b[1;32mTrue\u001b[0m\u001b[1;33m)\u001b[0m\u001b[1;33m\u001b[0m\u001b[1;33m\u001b[0m\u001b[0m\n\u001b[0;32m      6\u001b[0m \u001b[0mtrain\u001b[0m\u001b[1;33m=\u001b[0m \u001b[0mtrain\u001b[0m\u001b[1;33m.\u001b[0m\u001b[0miloc\u001b[0m\u001b[1;33m[\u001b[0m\u001b[0mtrain\u001b[0m\u001b[1;33m.\u001b[0m\u001b[0mgroupby\u001b[0m\u001b[1;33m(\u001b[0m\u001b[1;34m'account_id'\u001b[0m\u001b[1;33m)\u001b[0m\u001b[1;33m.\u001b[0m\u001b[0maccount_id\u001b[0m\u001b[1;33m.\u001b[0m\u001b[0mtransform\u001b[0m\u001b[1;33m(\u001b[0m\u001b[1;34m'size'\u001b[0m\u001b[1;33m)\u001b[0m\u001b[1;33m.\u001b[0m\u001b[0mmul\u001b[0m\u001b[1;33m(\u001b[0m\u001b[1;33m-\u001b[0m\u001b[1;36m1\u001b[0m\u001b[1;33m)\u001b[0m\u001b[1;33m.\u001b[0m\u001b[0margsort\u001b[0m\u001b[1;33m(\u001b[0m\u001b[0mkind\u001b[0m\u001b[1;33m=\u001b[0m\u001b[1;34m'mergesort'\u001b[0m\u001b[1;33m)\u001b[0m\u001b[1;33m]\u001b[0m\u001b[1;33m\u001b[0m\u001b[1;33m\u001b[0m\u001b[0m\n",
      "\u001b[1;32mc:\\users\\91701\\appdata\\local\\programs\\python\\python38-32\\lib\\site-packages\\pandas\\core\\frame.py\u001b[0m in \u001b[0;36mset_index\u001b[1;34m(self, keys, drop, append, inplace, verify_integrity)\u001b[0m\n\u001b[0;32m   4301\u001b[0m \u001b[1;33m\u001b[0m\u001b[0m\n\u001b[0;32m   4302\u001b[0m         \u001b[1;32mif\u001b[0m \u001b[0mmissing\u001b[0m\u001b[1;33m:\u001b[0m\u001b[1;33m\u001b[0m\u001b[1;33m\u001b[0m\u001b[0m\n\u001b[1;32m-> 4303\u001b[1;33m             \u001b[1;32mraise\u001b[0m \u001b[0mKeyError\u001b[0m\u001b[1;33m(\u001b[0m\u001b[1;34mf\"None of {missing} are in the columns\"\u001b[0m\u001b[1;33m)\u001b[0m\u001b[1;33m\u001b[0m\u001b[1;33m\u001b[0m\u001b[0m\n\u001b[0m\u001b[0;32m   4304\u001b[0m \u001b[1;33m\u001b[0m\u001b[0m\n\u001b[0;32m   4305\u001b[0m         \u001b[1;32mif\u001b[0m \u001b[0minplace\u001b[0m\u001b[1;33m:\u001b[0m\u001b[1;33m\u001b[0m\u001b[1;33m\u001b[0m\u001b[0m\n",
      "\u001b[1;31mKeyError\u001b[0m: \"None of ['account_id', 'week_start_date'] are in the columns\""
     ]
    }
   ],
   "source": [
    "#Sorting account_ids by their count in decreasing order\n",
    "#100583 has maximum no. of count\n",
    "\n",
    "train= train.set_index(['account_id','week_start_date']).sort_index()\n",
    "train.reset_index(inplace= True)\n",
    "train= train.iloc[train.groupby('account_id').account_id.transform('size').mul(-1).argsort(kind='mergesort')]\n",
    "train.reset_index(drop= True, inplace= True)\n",
    "train.head()"
   ]
  },
  {
   "cell_type": "code",
   "execution_count": null,
   "metadata": {
    "colab": {
     "base_uri": "https://localhost:8080/",
     "height": 204
    },
    "colab_type": "code",
    "id": "u-uiEkOcfCNw",
    "outputId": "9ee04a80-5707-4858-b9bd-046b4221a925"
   },
   "outputs": [],
   "source": [
    "#Calculating the counts for each account_id and save them into another column i.e. \"count\"\n",
    "account_id_count = train.groupby('account_id')['Label'].agg(['sum','count'])\n",
    "account_id_count.reset_index(drop= False, inplace= True)\n",
    "account_id_count.head()"
   ]
  },
  {
   "cell_type": "code",
   "execution_count": null,
   "metadata": {
    "colab": {},
    "colab_type": "code",
    "id": "OY-TVeeKfCN3"
   },
   "outputs": [],
   "source": [
    "# Grouped all accounts by account_id with the sum of all other variables to find the number of events for each account\n",
    "# For example: account_id 100000 has 44 counts and 0 events. account_id 100004 has 89 counts and 2 events(For better understanding, please check \"Label\" column).\n",
    "\n",
    "train_grouped = train.groupby([\"account_id\"]).sum()\n",
    "train_grouped.sort_values(by= \"Label\",ascending= True, inplace = True)\n",
    "train_grouped.reset_index(drop= False, inplace= True)\n",
    "train_grouped.sort_values(by= \"account_id\",ascending= True, inplace = True)\n",
    "train_grouped.reset_index(drop= True, inplace= True)\n",
    "train_grouped[\"count\"]= account_id_count[\"count\"]"
   ]
  },
  {
   "cell_type": "code",
   "execution_count": null,
   "metadata": {
    "colab": {
     "base_uri": "https://localhost:8080/",
     "height": 224
    },
    "colab_type": "code",
    "id": "FnRypc2BfCOF",
    "outputId": "67f8f773-0563-4749-a545-36999c9b100c"
   },
   "outputs": [],
   "source": [
    "train_grouped.head()"
   ]
  },
  {
   "cell_type": "code",
   "execution_count": null,
   "metadata": {
    "colab": {
     "base_uri": "https://localhost:8080/",
     "height": 224
    },
    "colab_type": "code",
    "id": "mzdFQjuNfCON",
    "outputId": "6af09a92-2448-498c-a283-40dbc50184ae"
   },
   "outputs": [],
   "source": [
    "train_grouped= train_grouped.sort_values(by= \"Label\", ascending= True)\n",
    "train_grouped.reset_index(drop= True, inplace= True)\n",
    "train_grouped.head()"
   ]
  },
  {
   "cell_type": "code",
   "execution_count": null,
   "metadata": {
    "colab": {},
    "colab_type": "code",
    "id": "jN7UyMjffCOW"
   },
   "outputs": [],
   "source": [
    "#Creating a list of account_ids which have only '0' in Label column(ONLY NON-EVENT ACCOUNTS)\n",
    "\n",
    "account_list_non_event = []\n",
    "j= 0\n",
    "for i in train_grouped[\"Label\"]:\n",
    "    if i==0:\n",
    "        account_list_non_event.append(train_grouped[\"account_id\"][j])\n",
    "    j=j+1\n",
    "        "
   ]
  },
  {
   "cell_type": "code",
   "execution_count": null,
   "metadata": {
    "colab": {
     "base_uri": "https://localhost:8080/",
     "height": 34
    },
    "colab_type": "code",
    "id": "FAwsNMLBfCOd",
    "outputId": "9c38a876-565e-43bf-a9a4-4b2e44cff50e"
   },
   "outputs": [],
   "source": [
    "len(account_list_non_event)     # there are 2363 accounts which have only '0'"
   ]
  },
  {
   "cell_type": "code",
   "execution_count": null,
   "metadata": {
    "colab": {
     "base_uri": "https://localhost:8080/",
     "height": 68
    },
    "colab_type": "code",
    "id": "kxSKZLApfCOk",
    "outputId": "5a0d7a86-fd8e-4269-c976-fe954f19407d"
   },
   "outputs": [],
   "source": [
    "#The dataset is highly imbalanced and biased towards \"0\". To make it a balance dataset, I have removed all the accounts which have only \"0\" in Label column.\n",
    "\n",
    "train = train[~train['account_id'].isin(account_list_non_event)]\n",
    "train[\"Label\"].value_counts()"
   ]
  },
  {
   "cell_type": "code",
   "execution_count": null,
   "metadata": {
    "colab": {
     "base_uri": "https://localhost:8080/",
     "height": 221
    },
    "colab_type": "code",
    "id": "WhdMA_7NfCOq",
    "outputId": "94775095-6c6c-45ff-d960-6679a832b415"
   },
   "outputs": [],
   "source": [
    "#Calculating counts of each account.\n",
    "train[\"account_id\"].value_counts()"
   ]
  },
  {
   "cell_type": "code",
   "execution_count": null,
   "metadata": {
    "colab": {},
    "colab_type": "code",
    "id": "MDhYjVmcfCO6"
   },
   "outputs": [],
   "source": []
  },
  {
   "cell_type": "markdown",
   "metadata": {
    "colab_type": "text",
    "id": "Aen58IbAy9qF"
   },
   "source": [
    "**Feature Selection by VIF(Variance inflation factor)**"
   ]
  },
  {
   "cell_type": "code",
   "execution_count": null,
   "metadata": {
    "colab": {
     "base_uri": "https://localhost:8080/",
     "height": 419
    },
    "colab_type": "code",
    "id": "1_7KMADgfCPA",
    "outputId": "e9dd8d75-d8cf-42e8-cbbd-8bff2431c0da"
   },
   "outputs": [],
   "source": [
    "outcome, predictors = dmatrices('Label ~ feature1+ feature2+ feature3 +feature4 + feature5+ feature6 +feature7+feature8 + feature9+feature10+feature11+feature12+feature13+feature14+feature15+feature16+feature17+feature18+feature19+feature20+feature21+feature22+feature23+feature24+feature25+feature26+feature27+feature28+feature29+feature30+feature31+feature32+feature33+feature34+feature35+feature36+feature37+feature38+feature39+feature40+feature41+feature42+feature43+feature44+feature45+feature46+feature47+feature48+feature49+ feature50+feature51+feature52+feature53+feature54+feature55+feature56+feature57+feature58+feature59+feature60+feature61+feature62',train, return_type='dataframe')\n",
    "# calculating VIF for each individual Predictors\n",
    "vif = pd.DataFrame()\n",
    "vif[\"VIF\"] = [variance_inflation_factor(predictors.values, i) for i in range(predictors.shape[1])]\n",
    "vif[\"features\"] = predictors.columns\n",
    "vif"
   ]
  },
  {
   "cell_type": "markdown",
   "metadata": {
    "colab_type": "text",
    "id": "6D6IfzyizJnP"
   },
   "source": [
    "**ANOVA TEST**"
   ]
  },
  {
   "cell_type": "code",
   "execution_count": null,
   "metadata": {
    "colab": {
     "base_uri": "https://localhost:8080/",
     "height": 1000
    },
    "colab_type": "code",
    "id": "ow_XgkeJfCPH",
    "outputId": "641f90b6-f584-4d62-f758-82a5a12a4a4d"
   },
   "outputs": [],
   "source": [
    "anova_test_list= []\n",
    "del_col_names = []\n",
    "for i in col:\n",
    "    mod = ols(\"Label\" + '~' + i, data = train).fit()\n",
    "    aov_table = sm.stats.anova_lm(mod, typ = 2)\n",
    "    print(aov_table)\n",
    "    anova_test_list.append(aov_table)\n",
    "    if aov_table[\"PR(>F)\"][0] > 0.05:\n",
    "        del train[i]                                                   #delete all the variables having p-value> 0.05\n",
    "        del_col_names.append(i)                                        #append deleted variable in a list(del_col_names)"
   ]
  },
  {
   "cell_type": "code",
   "execution_count": null,
   "metadata": {
    "colab": {},
    "colab_type": "code",
    "id": "ROtWUx4gfCPQ"
   },
   "outputs": [],
   "source": [
    "# selected features\n",
    "new_col= [\"feature4\",\"feature15\",\"feature16\",\"feature17\",\"feature22\",\"feature28\",\"feature31\",\"feature36\",\"feature37\",\"feature40\",\"feature41\",\"feature43\",\"feature46\",\"feature53\",\"feature55\",\"feature60\"]"
   ]
  },
  {
   "cell_type": "markdown",
   "metadata": {
    "colab_type": "text",
    "id": "8A0MDuv3z0zB"
   },
   "source": [
    "**Correlation analysis between features**"
   ]
  },
  {
   "cell_type": "code",
   "execution_count": null,
   "metadata": {
    "colab": {
     "base_uri": "https://localhost:8080/",
     "height": 543
    },
    "colab_type": "code",
    "id": "s7bRK2Y4fCPX",
    "outputId": "0054269e-9857-4c45-dc5e-c650a4cbd74f"
   },
   "outputs": [],
   "source": [
    "f , ax = plt.subplots(figsize = (15, 8))\n",
    "sns.heatmap(train.loc[:,new_col].corr(), annot = True)"
   ]
  },
  {
   "cell_type": "code",
   "execution_count": null,
   "metadata": {
    "colab": {},
    "colab_type": "code",
    "id": "qvvCoxtZfCPf"
   },
   "outputs": [],
   "source": [
    "#variable reduction\n",
    "train.drop([\"feature22\", \"account_id\", \"week_start_date\"], axis=1,inplace= True)"
   ]
  },
  {
   "cell_type": "markdown",
   "metadata": {
    "colab_type": "text",
    "id": "cR9UbRm_fCP1"
   },
   "source": [
    "# Splitting into training and testing set "
   ]
  },
  {
   "cell_type": "code",
   "execution_count": null,
   "metadata": {
    "colab": {
     "base_uri": "https://localhost:8080/",
     "height": 51
    },
    "colab_type": "code",
    "id": "Udvn97zifCP2",
    "outputId": "7ca8857c-62d5-4afb-a8f6-16ff9e1353a8"
   },
   "outputs": [],
   "source": [
    "from sklearn.model_selection import train_test_split\n",
    "X= train.drop([\"Label\"], axis=1)\n",
    "y= train[\"Label\"]\n",
    "X_train, X_test, y_train, y_test = train_test_split(X, y, test_size=0.2, random_state=69, stratify=y)\n",
    "# summarize\n",
    "train_0, train_1 = len(y_train[y_train==0]), len(y_train[y_train==1])\n",
    "test_0, test_1 = len(y_test[y_test==0]), len(y_test[y_test==1])\n",
    "print('>Train: 0=%d, 1=%d, Test: 0=%d, 1=%d' % (train_0, train_1, test_0, test_1))\n",
    "X_train.shape, X_test.shape, y_train.shape, y_test.shape, X.shape"
   ]
  },
  {
   "cell_type": "markdown",
   "metadata": {
    "colab_type": "text",
    "id": "FxJUTwitfCQI"
   },
   "source": [
    "# LOGISTIC REGRESSION WITHOUT SAMPLING"
   ]
  },
  {
   "cell_type": "code",
   "execution_count": null,
   "metadata": {
    "colab": {
     "base_uri": "https://localhost:8080/",
     "height": 51
    },
    "colab_type": "code",
    "id": "6gSyp2h9fCQJ",
    "outputId": "3a6752c0-d594-46a8-a742-475f1c90ba0c"
   },
   "outputs": [],
   "source": [
    "# Creating the hyperparameter grid \n",
    "c_space = np.logspace(-5, 8, 15) \n",
    "param_grid = {'C': c_space} \n",
    "  \n",
    "# Instantiating logistic regression classifier \n",
    "LR = LogisticRegression() \n",
    "  \n",
    "# Instantiating the GridSearchCV object \n",
    "LR_cv = GridSearchCV(LR, param_grid, cv = 5) \n",
    "  \n",
    "LR_cv.fit(X, y) \n",
    "  \n",
    "# Print the tuned parameters and score \n",
    "print(\"Tuned Logistic Regression Parameters: {}\".format(LR_cv.best_params_))  \n",
    "print(\"Best score is {}\".format(LR_cv.best_score_))"
   ]
  },
  {
   "cell_type": "code",
   "execution_count": null,
   "metadata": {
    "colab": {
     "base_uri": "https://localhost:8080/",
     "height": 289
    },
    "colab_type": "code",
    "id": "LfNPDF3SfCQS",
    "outputId": "cd0ecd0f-bc24-442d-9273-e4355988df90"
   },
   "outputs": [],
   "source": [
    "LR = LogisticRegression(C= 0.4393970560760795).fit(X_train, y_train)\n",
    "LR_pred  = LR.predict(X_test)\n",
    "\n",
    "CM = confusion_matrix(y_test, LR_pred)\n",
    "CM = pd.crosstab(pd.Series(y_test.values,name=\"Actual\"), pd.Series(LR_pred,name=\"Predicted\"))\n",
    "print(CM)\n",
    "print(\"accuracy_score:\", accuracy_score(y_test, LR_pred)*100)\n",
    "\n",
    "print(\"f1_score:\", f1_score(y_test, LR_pred))\n",
    "print(\"roc_auc_score:\", roc_auc_score(y_test, LR_pred))\n",
    "print(classification_report(y_test,LR_pred))"
   ]
  },
  {
   "cell_type": "markdown",
   "metadata": {
    "colab_type": "text",
    "id": "hYoXjFNGfCQn"
   },
   "source": [
    "# RF WITHOUT SAMPLING"
   ]
  },
  {
   "cell_type": "code",
   "execution_count": null,
   "metadata": {
    "colab": {
     "base_uri": "https://localhost:8080/",
     "height": 136
    },
    "colab_type": "code",
    "id": "BGMj2trXfCQo",
    "outputId": "55a08254-b61a-483d-88c0-4ab75c9caff5"
   },
   "outputs": [],
   "source": [
    "#Hyper_parameter tunning.\n",
    "\n",
    "n_estimators=[50, 100, 150, 200, 500]\n",
    "\n",
    "max_features= [\"auto\", \"sqrt\", \"log2\"]\n",
    "max_depth=[1, 20, 30, 40, 50]\n",
    "max_depth.append(None)\n",
    "min_samples_split = [2, 5, 10, 15, 20]\n",
    "min_samples_leaf=[2, 5, 1, 15]\n",
    "\n",
    "\n",
    "grid_param= {'n_estimators': n_estimators,\"max_features\": max_features,\"max_depth\": max_depth,\"min_samples_split\": min_samples_split,\"min_samples_leaf\": min_samples_leaf}\n",
    "\n",
    "RF_model = RandomForestClassifier(random_state=1)\n",
    "RF_random= RandomizedSearchCV(estimator =RF_model,param_distributions=grid_param, n_iter =100,cv= 5, verbose= 2, random_state=42,n_jobs=-1)\n",
    "# Fit the grid search to the data\n",
    "RF_random.fit(X_train, y_train)\n",
    "print(RF_random.best_params_)"
   ]
  },
  {
   "cell_type": "code",
   "execution_count": null,
   "metadata": {
    "colab": {
     "base_uri": "https://localhost:8080/",
     "height": 289
    },
    "colab_type": "code",
    "id": "aC9JEaOKfCQv",
    "outputId": "10de88ae-20bd-4218-8d2e-0f291ac91cd5",
    "scrolled": true
   },
   "outputs": [],
   "source": [
    "RF_model = RandomForestClassifier(n_estimators = 100,max_depth=20,min_samples_split=10,min_samples_leaf=2,max_features='sqrt').fit(X_train, y_train)\n",
    "RF_pred = RF_model.predict(X_test)\n",
    "\n",
    "CM = confusion_matrix(y_test, RF_pred)\n",
    "CM = pd.crosstab(pd.Series(y_test.values,name=\"Actual\"), pd.Series(RF_pred,name=\"Predicted\"))\n",
    "print(CM)\n",
    "print(\"accuracy_score:\", accuracy_score(y_test, RF_pred)*100)\n",
    "\n",
    "print(\"f1_score:\", f1_score(y_test, RF_pred))\n",
    "print(\"roc_auc_score:\", roc_auc_score(y_test, RF_pred))\n",
    "print(classification_report(y_test,RF_pred))"
   ]
  },
  {
   "cell_type": "markdown",
   "metadata": {
    "colab_type": "text",
    "id": "S82c6U0vfCRG"
   },
   "source": [
    "# XGBOOST WITHOUT SAMPLING"
   ]
  },
  {
   "cell_type": "code",
   "execution_count": null,
   "metadata": {
    "colab": {
     "base_uri": "https://localhost:8080/",
     "height": 289
    },
    "colab_type": "code",
    "id": "uhZm9qQwfCRI",
    "outputId": "d1a18d03-0e5b-4c66-ada8-e8951a2356fa"
   },
   "outputs": [],
   "source": [
    "XGB = XGBClassifier(max_depth=4, learning_rate=0.2, n_estimators=200, min_child_weight=1, random_state=18) \n",
    "XGB.fit(X_train, y_train) \n",
    "XGB_pred = XGB.predict(X_test) \n",
    "CM = confusion_matrix(y_test, XGB_pred)\n",
    "CM = pd.crosstab(pd.Series(y_test.values,name=\"Actual\"), pd.Series(XGB_pred,name=\"Predicted\"))\n",
    "print(CM)\n",
    "print(\"accuracy_score:\", accuracy_score(y_test, XGB_pred)*100)\n",
    "\n",
    "print(\"f1_score:\", f1_score(y_test, XGB_pred))\n",
    "print(\"roc_auc_score:\", roc_auc_score(y_test, XGB_pred))\n",
    "print(classification_report(y_test,XGB_pred))"
   ]
  },
  {
   "cell_type": "markdown",
   "metadata": {
    "colab_type": "text",
    "id": "WZ4_01V4fCRP"
   },
   "source": [
    "# DOWN SAMPLING "
   ]
  },
  {
   "cell_type": "code",
   "execution_count": null,
   "metadata": {
    "colab": {
     "base_uri": "https://localhost:8080/",
     "height": 119
    },
    "colab_type": "code",
    "id": "On-b-IcDfCRQ",
    "outputId": "0c1176fb-af35-4de9-a39e-69c4db836e07"
   },
   "outputs": [],
   "source": [
    "minority_class_len = len(train[train[\"Label\"] == 1])\n",
    "majority_class_indices = train[train[\"Label\"]== 0].index\n",
    "\n",
    "random_majority_indices = np.random.choice(majority_class_indices, minority_class_len, replace = False)\n",
    "minority_class_indices = train[train[\"Label\"]== 1].index\n",
    "print(minority_class_indices)\n",
    "under_sample_indices = np.concatenate([minority_class_indices, random_majority_indices])\n",
    "under_sample = train.loc[under_sample_indices]"
   ]
  },
  {
   "cell_type": "code",
   "execution_count": null,
   "metadata": {
    "colab": {
     "base_uri": "https://localhost:8080/",
     "height": 68
    },
    "colab_type": "code",
    "id": "A7Ph4otbfCRZ",
    "outputId": "8c013114-03a1-42fd-b358-804f96328a9b",
    "scrolled": true
   },
   "outputs": [],
   "source": [
    "under_sample[\"Label\"].value_counts()"
   ]
  },
  {
   "cell_type": "code",
   "execution_count": null,
   "metadata": {
    "colab": {
     "base_uri": "https://localhost:8080/",
     "height": 34
    },
    "colab_type": "code",
    "id": "WDcib8VYfCRk",
    "outputId": "dc79abb1-dddf-48b2-9682-bc46cb22302d"
   },
   "outputs": [],
   "source": [
    "X= under_sample.drop([\"Label\"], axis=1)\n",
    "y= under_sample[\"Label\"]\n",
    "X_train, X_test, y_train, y_test = train_test_split(X, y, test_size=0.20, random_state=36, stratify=y)\n",
    "# summarize\n",
    "train_0, train_1 = len(y_train[y_train==0]), len(y_train[y_train==1])\n",
    "test_0, test_1 = len(y_test[y_test==0]), len(y_test[y_test==1])\n",
    "print('>Train: 0=%d, 1=%d, Test: 0=%d, 1=%d' % (train_0, train_1, test_0, test_1))"
   ]
  },
  {
   "cell_type": "markdown",
   "metadata": {
    "colab_type": "text",
    "id": "IlLTEpdhfCRs"
   },
   "source": [
    "# LOGISTIC REGRESSION DOWNSAMPLING"
   ]
  },
  {
   "cell_type": "code",
   "execution_count": null,
   "metadata": {
    "colab": {
     "base_uri": "https://localhost:8080/",
     "height": 289
    },
    "colab_type": "code",
    "id": "FYqfNlxzfCRt",
    "outputId": "ccba7727-b03c-4215-b3cd-afe04d5caa2f"
   },
   "outputs": [],
   "source": [
    "LR_DS = LogisticRegression().fit(X_train, y_train)\n",
    "LR_DS_pred  = LR_DS.predict(X_test)\n",
    "\n",
    "CM = confusion_matrix(y_test, LR_DS_pred)\n",
    "CM = pd.crosstab(pd.Series(y_test.values,name=\"Actual\"), pd.Series(LR_DS_pred,name=\"Predicted\"))\n",
    "print(CM)\n",
    "print(\"accuracy_score:\", accuracy_score(y_test, LR_DS_pred)*100)\n",
    "\n",
    "print(\"f1_score:\", f1_score(y_test, LR_DS_pred))\n",
    "print(\"roc_auc_score:\", roc_auc_score(y_test, LR_DS_pred))\n",
    "print(classification_report(y_test,LR_DS_pred))"
   ]
  },
  {
   "cell_type": "markdown",
   "metadata": {
    "colab_type": "text",
    "id": "PGD8X-dwfCR7"
   },
   "source": [
    "# RANDOM FOREST DOWNSMPLING"
   ]
  },
  {
   "cell_type": "code",
   "execution_count": null,
   "metadata": {
    "colab": {
     "base_uri": "https://localhost:8080/",
     "height": 289
    },
    "colab_type": "code",
    "id": "kUmAsvYAfCSB",
    "outputId": "ee8844f0-08b0-4805-fe73-20b4857361f5"
   },
   "outputs": [],
   "source": [
    "RF_DS = RandomForestClassifier(n_estimators = 500,max_depth=30,min_samples_split=10,min_samples_leaf=1,max_features='log2').fit(X_train, y_train)\n",
    "RF_DS_pred = RF_DS.predict(X_test)\n",
    "\n",
    "CM = confusion_matrix(y_test, RF_DS_pred)\n",
    "CM = pd.crosstab(pd.Series(y_test.values,name=\"Actual\"), pd.Series(RF_DS_pred,name=\"Predicted\"))\n",
    "print(CM)\n",
    "print(\"accuracy_score:\", accuracy_score(y_test, RF_DS_pred)*100)\n",
    "\n",
    "print(\"f1_score:\", f1_score(y_test, RF_DS_pred))\n",
    "print(\"roc_auc_score:\", roc_auc_score(y_test, RF_DS_pred))\n",
    "print(classification_report(y_test,RF_DS_pred))"
   ]
  },
  {
   "cell_type": "markdown",
   "metadata": {
    "colab_type": "text",
    "id": "U5ETXI4EfCSH"
   },
   "source": [
    "# XGBOOST DOWNSAMPLING"
   ]
  },
  {
   "cell_type": "code",
   "execution_count": null,
   "metadata": {
    "colab": {
     "base_uri": "https://localhost:8080/",
     "height": 289
    },
    "colab_type": "code",
    "id": "sLaQpV2TfCSI",
    "outputId": "0ce3460f-fd68-4256-f814-e172d265e7f1"
   },
   "outputs": [],
   "source": [
    "XGB_DS = XGBClassifier()  \n",
    "XGB_DS.fit(X_train, y_train)  \n",
    "XGB_DS_pred = XGB_DS.predict(X_test)  \n",
    "CM = confusion_matrix(y_test, XGB_DS_pred) \n",
    "CM = pd.crosstab(pd.Series(y_test.values,name=\"Actual\"), pd.Series(XGB_DS_pred,name=\"Predicted\")) \n",
    "print(CM) \n",
    "print(\"accuracy_score:\", accuracy_score(y_test, XGB_DS_pred)*100) \n",
    "print(\"f1_score:\", f1_score(y_test, XGB_DS_pred)) \n",
    "print(\"roc_auc_score:\", roc_auc_score(y_test, XGB_DS_pred)) \n",
    "print(classification_report(y_test,XGB_DS_pred)) \n",
    "\n",
    " "
   ]
  },
  {
   "cell_type": "markdown",
   "metadata": {
    "colab_type": "text",
    "id": "7SWH1xjXfCSN"
   },
   "source": [
    "# UP SAMPLING USING SMOTE"
   ]
  },
  {
   "cell_type": "code",
   "execution_count": null,
   "metadata": {
    "colab": {
     "base_uri": "https://localhost:8080/",
     "height": 34
    },
    "colab_type": "code",
    "id": "t12xqia6fCSQ",
    "outputId": "af949b2e-097b-4622-eb73-902ecece362c"
   },
   "outputs": [],
   "source": [
    "X= train.drop([\"Label\"], axis=1)\n",
    "y= train[\"Label\"]\n",
    "X_train, X_test, y_train, y_test = train_test_split(X, y, test_size=0.25, random_state=3, stratify=y)\n",
    "# summarize\n",
    "train_0, train_1 = len(y_train[y_train==0]), len(y_train[y_train==1])\n",
    "test_0, test_1 = len(y_test[y_test==0]), len(y_test[y_test==1])\n",
    "print('>Train: 0=%d, 1=%d, Test: 0=%d, 1=%d' % (train_0, train_1, test_0, test_1))"
   ]
  },
  {
   "cell_type": "code",
   "execution_count": null,
   "metadata": {
    "colab": {
     "base_uri": "https://localhost:8080/",
     "height": 153
    },
    "colab_type": "code",
    "id": "dQhUJzRvfCSa",
    "outputId": "e564b24f-8b11-4cd7-cf28-cf21103dd670"
   },
   "outputs": [],
   "source": [
    "print(\"Before OverSampling, counts of label '1': {}\".format(sum(y_train == 1))) \n",
    "print(\"Before OverSampling, counts of label '0': {} \\n\".format(sum(y_train == 0))) \n",
    "  \n",
    "# import SMOTE module from imblearn library \n",
    "from imblearn.over_sampling import SMOTE \n",
    "sm = SMOTE(random_state = 2) \n",
    "X_train_res, y_train_res = sm.fit_sample(X_train, y_train.ravel()) \n",
    "  \n",
    "print('After OverSampling, the shape of train_X: {}'.format(X_train_res.shape)) \n",
    "print('After OverSampling, the shape of train_y: {} \\n'.format(y_train_res.shape)) \n",
    "  \n",
    "print(\"After OverSampling, counts of label '1': {}\".format(sum(y_train_res == 1))) \n",
    "print(\"After OverSampling, counts of label '0': {}\".format(sum(y_train_res == 0))) "
   ]
  },
  {
   "cell_type": "markdown",
   "metadata": {
    "colab_type": "text",
    "id": "h7cXxGzqfCSt"
   },
   "source": [
    "# LR UPSAMPLING"
   ]
  },
  {
   "cell_type": "code",
   "execution_count": null,
   "metadata": {
    "colab": {
     "base_uri": "https://localhost:8080/",
     "height": 289
    },
    "colab_type": "code",
    "id": "PAGs4FiSfCSv",
    "outputId": "6a4e4236-dc27-4757-ff5e-14e105e9a9dc",
    "scrolled": false
   },
   "outputs": [],
   "source": [
    "LR_UP = LogisticRegression().fit(X_train_res, y_train_res)\n",
    "LR_UP_pred  = LR_UP.predict(X_test)\n",
    "\n",
    "CM = confusion_matrix(y_test, LR_UP_pred)\n",
    "CM = pd.crosstab(pd.Series(y_test.values,name=\"Actual\"), pd.Series(LR_UP_pred,name=\"Predicted\"))\n",
    "print(CM)\n",
    "print(\"accuracy_score:\", accuracy_score(y_test, LR_UP_pred)*100)\n",
    "\n",
    "print(\"f1_score:\", f1_score(y_test, LR_UP_pred))\n",
    "print(\"roc_auc_score:\", roc_auc_score(y_test, LR_UP_pred))\n",
    "print(classification_report(y_test,LR_UP_pred))"
   ]
  },
  {
   "cell_type": "markdown",
   "metadata": {
    "colab_type": "text",
    "id": "7IsnL0vcfCTJ"
   },
   "source": [
    "# RF UPSAMPLING"
   ]
  },
  {
   "cell_type": "code",
   "execution_count": null,
   "metadata": {
    "colab": {
     "base_uri": "https://localhost:8080/",
     "height": 289
    },
    "colab_type": "code",
    "id": "-LFR9V4JfCTK",
    "outputId": "6cd394c7-57b9-4a60-908b-dcb26a1d4f73"
   },
   "outputs": [],
   "source": [
    "RF_UP_model = RandomForestClassifier(n_estimators = 500,max_depth=30,min_samples_split=10,min_samples_leaf=1,max_features='log2').fit(X_train_res, y_train_res)\n",
    "RF_UP_pred = RF_UP_model.predict(X_test)\n",
    "\n",
    "CM = confusion_matrix(y_test, RF_UP_pred)\n",
    "CM = pd.crosstab(pd.Series(y_test.values,name=\"Actual\"), pd.Series(RF_UP_pred,name=\"Predicted\"))\n",
    "print(CM)\n",
    "print(\"accuracy_score:\", accuracy_score(y_test, RF_UP_pred)*100)\n",
    "\n",
    "print(\"f1_score:\", f1_score(y_test, RF_UP_pred))\n",
    "print(\"roc_auc_score:\", roc_auc_score(y_test, RF_UP_pred))\n",
    "print(classification_report(y_test,RF_UP_pred))"
   ]
  },
  {
   "cell_type": "markdown",
   "metadata": {
    "colab_type": "text",
    "id": "-dGlQQetfCTf"
   },
   "source": [
    "# Predict on test dataset by using XGBOOST(without sampling training method) beacause it has better precision and recall score.\n"
   ]
  },
  {
   "cell_type": "code",
   "execution_count": null,
   "metadata": {
    "colab": {},
    "colab_type": "code",
    "id": "CTG2QFzzfCTg"
   },
   "outputs": [],
   "source": [
    "df_test= test.copy()"
   ]
  },
  {
   "cell_type": "code",
   "execution_count": null,
   "metadata": {
    "colab": {},
    "colab_type": "code",
    "id": "Sw5xM7q8fCTq"
   },
   "outputs": [],
   "source": [
    "col = train.columns"
   ]
  },
  {
   "cell_type": "code",
   "execution_count": null,
   "metadata": {
    "colab": {
     "base_uri": "https://localhost:8080/",
     "height": 224
    },
    "colab_type": "code",
    "id": "zKnmJizJfCUD",
    "outputId": "90024c4e-c113-4446-c158-f122bdd2e2b6"
   },
   "outputs": [],
   "source": [
    "df_test= df_test[col]\n",
    "df_test.drop([\"Label\"], axis=1, inplace= True)\n",
    "Label= test[\"Label\"]\n",
    "df_test.head()"
   ]
  },
  {
   "cell_type": "code",
   "execution_count": null,
   "metadata": {
    "colab": {
     "base_uri": "https://localhost:8080/",
     "height": 289
    },
    "colab_type": "code",
    "id": "-FZAn8aEfCUa",
    "outputId": "69efb820-44f2-4a9e-cae5-a591416fea3d"
   },
   "outputs": [],
   "source": [
    "XGB_pred  = XGB.predict(df_test)\n",
    "CM = confusion_matrix(Label, XGB_pred)\n",
    "CM = pd.crosstab(pd.Series(Label.values,name=\"Actual\"), pd.Series(XGB_pred,name=\"Predicted\"))\n",
    "print(CM)\n",
    "print(\"accuracy_score:\", accuracy_score(Label, XGB_pred)*100)\n",
    "\n",
    "print(\"f1_score:\", f1_score(Label, XGB_pred))\n",
    "print(\"roc_auc_score:\", roc_auc_score(Label, XGB_pred))\n",
    "print(classification_report(Label, XGB_pred))"
   ]
  },
  {
   "cell_type": "code",
   "execution_count": null,
   "metadata": {
    "colab": {
     "base_uri": "https://localhost:8080/",
     "height": 313
    },
    "colab_type": "code",
    "id": "0fggb0v-fCUe",
    "outputId": "246fda66-6243-4aed-a53a-2ef4c967644d"
   },
   "outputs": [],
   "source": [
    "y_pred_proba = XGB.predict_proba(df_test)\n",
    "print(roc_auc_score(Label, y_pred_proba[:,1]))\n",
    "plot_precision_recall_curve(XGB,df_test,Label)"
   ]
  },
  {
   "cell_type": "code",
   "execution_count": null,
   "metadata": {
    "colab": {},
    "colab_type": "code",
    "id": "e4mtvr8E7Zuf"
   },
   "outputs": [],
   "source": [
    "Final_label= pd.DataFrame(data= XGB_pred, columns= [\"predicted_label\"])"
   ]
  },
  {
   "cell_type": "code",
   "execution_count": null,
   "metadata": {
    "colab": {},
    "colab_type": "code",
    "id": "LBJpzENf8WQ3"
   },
   "outputs": [],
   "source": [
    "final_output= pd.concat([test[\"account_id\"],Final_label[\"predicted_label\"]], axis=1)"
   ]
  },
  {
   "cell_type": "code",
   "execution_count": null,
   "metadata": {
    "colab": {
     "base_uri": "https://localhost:8080/",
     "height": 419
    },
    "colab_type": "code",
    "id": "eilqXL5J9Dv6",
    "outputId": "ce7dd420-aefc-4c66-d0cc-717f0b482c7f"
   },
   "outputs": [],
   "source": [
    "final_output"
   ]
  }
 ],
 "metadata": {
  "colab": {
   "collapsed_sections": [],
   "name": "CustomerSuccessBox2.ipynb",
   "provenance": []
  },
  "kernelspec": {
   "display_name": "Python 3",
   "language": "python",
   "name": "python3"
  },
  "language_info": {
   "codemirror_mode": {
    "name": "ipython",
    "version": 3
   },
   "file_extension": ".py",
   "mimetype": "text/x-python",
   "name": "python",
   "nbconvert_exporter": "python",
   "pygments_lexer": "ipython3",
   "version": "3.8.2"
  }
 },
 "nbformat": 4,
 "nbformat_minor": 1
}
